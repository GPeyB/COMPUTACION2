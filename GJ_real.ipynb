{
  "nbformat": 4,
  "nbformat_minor": 0,
  "metadata": {
    "colab": {
      "name": "GJ_real.ipynb",
      "provenance": [],
      "collapsed_sections": []
    },
    "kernelspec": {
      "name": "python3",
      "display_name": "Python 3"
    },
    "language_info": {
      "name": "python"
    }
  },
  "cells": [
    {
      "cell_type": "code",
      "source": [
        "## Gabriel Peytral Borja \n",
        "## 25-02-2022\n",
        "\n",
        "# ELIMINACIÓN GAUSS-JORDAN\n",
        "# Intento final usando la inversa, si no funciona me doy de baja \n",
        "\n",
        "# Definición de funciones de apoyo\n",
        "\n",
        "## Funcion para imprimir las matrices\n",
        "def imprimirMatrices(Action, Title1, M1, Title2, M2):\n",
        "  print (Action)\n",
        "  print (Title1, '\\t' *int(len(M1)/2)+'\\t' * len(M1), Title2)\n",
        "  for i in range(len(M1)):\n",
        "     row1 = ['{0:+7.3f}'.format(x) for x in M1[i]]\n",
        "     row2 = ['{0:+7.3f}'.format(x) for x in M2[i]]\n",
        "     print(row1,'\\t', row2) \n"
      ],
      "metadata": {
        "id": "wGtd-FhCc1AY"
      },
      "execution_count": 87,
      "outputs": []
    },
    {
      "cell_type": "code",
      "execution_count": 88,
      "metadata": {
        "colab": {
          "base_uri": "https://localhost:8080/"
        },
        "id": "y7RymlnIcLOt",
        "outputId": "443c4606-5d71-4f68-a1c5-72da4c54d489"
      },
      "outputs": [
        {
          "output_type": "stream",
          "name": "stdout",
          "text": [
            "\n",
            "A Matrix \t\t\t\t\t\t I Matrix\n",
            "[' +7.000', ' +8.000', ' +2.000', ' +5.000'] \t [' +1.000', ' +0.000', ' +0.000', ' +0.000']\n",
            "[' +7.000', ' +6.000', ' +3.000', ' +3.000'] \t [' +0.000', ' +1.000', ' +0.000', ' +0.000']\n",
            "[' +2.000', ' +8.000', ' +9.000', ' +4.000'] \t [' +0.000', ' +0.000', ' +1.000', ' +0.000']\n",
            "[' +6.000', ' +3.000', ' +4.000', ' +4.000'] \t [' +0.000', ' +0.000', ' +0.000', ' +1.000']\n"
          ]
        }
      ],
      "source": [
        "import numpy as np\n",
        "\n",
        "# Creación de matrices\n",
        "A = np.random.randint (1, 10 , (4,4)) ## Se pueden modificar las dimensiones\n",
        "I = np.identity(4)\n",
        "\n",
        "imprimirMatrices('','A Matrix', A, 'I Matrix', I)"
      ]
    },
    {
      "cell_type": "code",
      "source": [
        "# Ahora sí, inicio eliminación Gauss-Jordan\n",
        "# Primero convierto en 1 el elemento que está en A [0][0]\n",
        "denf = 0 ## para índices de \"diagonal de enfoque\"\n",
        "denfScaler = 1. /A[denf][denf] # Para hacer el elemento 1 y manejarlo como pivote\n",
        "n = len (A)\n",
        "for j in range (n): # j = ciclado en columnas\n",
        "  A[denf][j] = denfScaler * A [denf][j]\n",
        "  I[denf][j] = denfScaler * A [denf][j]\n",
        "print ()\n",
        "imprimirMatrices('', 'A Matrix', A, 'I Matrix', I)"
      ],
      "metadata": {
        "colab": {
          "base_uri": "https://localhost:8080/"
        },
        "id": "lZ62wfTufghp",
        "outputId": "35b9ced4-a89c-449c-f297-d925f4ccf5c7"
      },
      "execution_count": 89,
      "outputs": [
        {
          "output_type": "stream",
          "name": "stdout",
          "text": [
            "\n",
            "\n",
            "A Matrix \t\t\t\t\t\t I Matrix\n",
            "[' +1.000', ' +1.000', ' +0.000', ' +0.000'] \t [' +0.143', ' +0.143', ' +0.000', ' +0.000']\n",
            "[' +7.000', ' +6.000', ' +3.000', ' +3.000'] \t [' +0.000', ' +1.000', ' +0.000', ' +0.000']\n",
            "[' +2.000', ' +8.000', ' +9.000', ' +4.000'] \t [' +0.000', ' +0.000', ' +1.000', ' +0.000']\n",
            "[' +6.000', ' +3.000', ' +4.000', ' +4.000'] \t [' +0.000', ' +0.000', ' +0.000', ' +1.000']\n"
          ]
        }
      ]
    },
    {
      "cell_type": "code",
      "source": [
        "# Ahora opero sobre los elementos debajo del pivote \n",
        "n = len(A) \n",
        "indices = list(range(n)) # Lista para iterar del tAaño de A\n",
        "\n",
        "for i in indices [0:denf] + indices[denf+1:]:\n",
        "  raScaler = A[i][denf] # ra : renglón actual\n",
        "  for j in range (n): # ra-raScaler * denfrenglon, un elemento a la vez\n",
        "    A[i][j] = A[i][j] - raScaler * A[denf][j]\n",
        "    I[i][j] = I[i][j] - raScaler * I[denf][j]\n",
        "\n",
        "imprimirMatrices('', 'A Matrix', A, 'I Matrix', I)"
      ],
      "metadata": {
        "colab": {
          "base_uri": "https://localhost:8080/"
        },
        "id": "FoZvX9ncgOUy",
        "outputId": "99d5b3b3-0044-4cde-c2dc-97aee156faa6"
      },
      "execution_count": 90,
      "outputs": [
        {
          "output_type": "stream",
          "name": "stdout",
          "text": [
            "\n",
            "A Matrix \t\t\t\t\t\t I Matrix\n",
            "[' +1.000', ' +1.000', ' +0.000', ' +0.000'] \t [' +0.143', ' +0.143', ' +0.000', ' +0.000']\n",
            "[' +0.000', ' -1.000', ' +3.000', ' +3.000'] \t [' -1.000', ' +0.000', ' +0.000', ' +0.000']\n",
            "[' +0.000', ' +6.000', ' +9.000', ' +4.000'] \t [' -0.286', ' -0.286', ' +1.000', ' +0.000']\n",
            "[' +0.000', ' -3.000', ' +4.000', ' +4.000'] \t [' -0.857', ' -0.857', ' +0.000', ' +1.000']\n"
          ]
        }
      ]
    },
    {
      "cell_type": "code",
      "source": [
        "# Ahora me voy con lo que sería el segundo elemento de la diagonal principal\n",
        "# Es lo mismo con la diferencia de que ahora tengo que operar tanto arriba \n",
        "# como abajo del elemento \"pivote\"\n",
        "\n",
        "indices = list(range(n)) # Para permitir referenciado flexible de renglones\n",
        "for denf in range (1,n): # denf (focus diagonal)\n",
        "  denfScaler = 1.0 / A[denf][denf]\n",
        "  # Primero ajustAos el renglon con el pivote usando la inversa del pivote\n",
        "  for j in range (n): #j: ciclado en columnas\n",
        "    A[denf][j] *= denfScaler\n",
        "    I[denf][j] *= denfScaler\n",
        "\n",
        "  # Seccion para imprimir acciones actuales\n",
        "  string1 = '\\nAplicando GJ '\n",
        "  string2 = ' '\n",
        "  stringsum = string1 + string2\n",
        "  val1 = denf+1; val2 = denf+1\n",
        "  Action = stringsum.format(val1,val2,round(1./denfScaler,3))\n",
        "  imprimirMatrices(Action, 'A Matrix', A, 'I Matrix', I)\n",
        "  print()\n",
        "\n",
        "  # Operar en cada renglon excepto la de denf\n",
        "  for i in indices [:denf] + indices [denf+1:]: # Brinca el renglon con pivote\n",
        "    raScaler = A[i][denf]\n",
        "    for j in range (n):\n",
        "      A[i][j] = A[i][j] -raScaler * A[denf][j]\n",
        "      I[i][j] = I[i][j] -raScaler * I[denf][j]\n",
        "  \n",
        "  # Sección para imprimir acciones actuales\n",
        "\n",
        "string1 = 'Obtenemos la identidad del lado izquierdo'\n",
        "string2 = ' y la inversa del lado derecho \\n'\n",
        "val1 = i+1; val2 = denf+1\n",
        "stringsum = string1 + string2\n",
        "Action = stringsum.format(raScaler, val2, val1, raScaler, val2, val1)\n",
        "imprimirMatrices(Action, 'A Matrix', A, 'I Matrix', I)\n",
        "print()\n"
      ],
      "metadata": {
        "colab": {
          "base_uri": "https://localhost:8080/"
        },
        "id": "VpUpmM1clERA",
        "outputId": "000dd0e2-5862-4ec6-e891-d28d90dc4206"
      },
      "execution_count": 91,
      "outputs": [
        {
          "output_type": "stream",
          "name": "stdout",
          "text": [
            "\n",
            "Aplicando GJ  \n",
            "A Matrix \t\t\t\t\t\t I Matrix\n",
            "[' +1.000', ' +1.000', ' +0.000', ' +0.000'] \t [' +0.143', ' +0.143', ' +0.000', ' +0.000']\n",
            "[' +0.000', ' +1.000', ' -3.000', ' -3.000'] \t [' +1.000', ' -0.000', ' -0.000', ' -0.000']\n",
            "[' +0.000', ' +6.000', ' +9.000', ' +4.000'] \t [' -0.286', ' -0.286', ' +1.000', ' +0.000']\n",
            "[' +0.000', ' -3.000', ' +4.000', ' +4.000'] \t [' -0.857', ' -0.857', ' +0.000', ' +1.000']\n",
            "\n",
            "\n",
            "Aplicando GJ  \n",
            "A Matrix \t\t\t\t\t\t I Matrix\n",
            "[' +1.000', ' +0.000', ' +3.000', ' +3.000'] \t [' -0.857', ' +0.143', ' +0.000', ' +0.000']\n",
            "[' +0.000', ' +1.000', ' -3.000', ' -3.000'] \t [' +1.000', ' -0.000', ' -0.000', ' -0.000']\n",
            "[' +0.000', ' +0.000', ' +1.000', ' +0.000'] \t [' -0.233', ' -0.011', ' +0.037', ' +0.000']\n",
            "[' +0.000', ' +0.000', ' -5.000', ' -5.000'] \t [' +2.143', ' -0.857', ' +0.000', ' +1.000']\n",
            "\n",
            "\n",
            "Aplicando GJ  \n",
            "A Matrix \t\t\t\t\t\t I Matrix\n",
            "[' +1.000', ' +0.000', ' +0.000', ' +3.000'] \t [' -0.159', ' +0.175', ' -0.111', ' +0.000']\n",
            "[' +0.000', ' +1.000', ' +0.000', ' -3.000'] \t [' +0.302', ' -0.032', ' +0.111', ' +0.000']\n",
            "[' +0.000', ' +0.000', ' +1.000', ' +0.000'] \t [' -0.233', ' -0.011', ' +0.037', ' +0.000']\n",
            "[' +0.000', ' +0.000', ' +0.000', ' +1.000'] \t [' -0.196', ' +0.182', ' -0.037', ' -0.200']\n",
            "\n",
            "Obtenemos la identidad del lado izquierdo y la inversa del lado derecho \n",
            "\n",
            "A Matrix \t\t\t\t\t\t I Matrix\n",
            "[' +1.000', ' +0.000', ' +0.000', ' +0.000'] \t [' +0.429', ' -0.371', ' +0.000', ' +0.600']\n",
            "[' +0.000', ' +1.000', ' +0.000', ' +0.000'] \t [' -0.286', ' +0.514', ' +0.000', ' -0.600']\n",
            "[' +0.000', ' +0.000', ' +1.000', ' +0.000'] \t [' -0.233', ' -0.011', ' +0.037', ' +0.000']\n",
            "[' +0.000', ' +0.000', ' +0.000', ' +1.000'] \t [' -0.196', ' +0.182', ' -0.037', ' -0.200']\n",
            "\n"
          ]
        }
      ]
    },
    {
      "cell_type": "code",
      "source": [
        "# Y el resultado final sería multiplicar la matriz inversa por el vector de b de resultados\n",
        "# (que en este caso no especifiqué) y que se puede hacer mediante la función dot de numpy\n",
        "### Resultado_final = np.dot(IM,b)\n",
        "## Por ejemplificar:\n",
        "b =[5,4,3,2]\n",
        "resultado = np.dot(I, b)\n",
        "print (resultado)"
      ],
      "metadata": {
        "colab": {
          "base_uri": "https://localhost:8080/"
        },
        "id": "qu3iPUDjzEFF",
        "outputId": "aa1ba70b-d5bb-4aed-95fc-f5cc2721256f"
      },
      "execution_count": 92,
      "outputs": [
        {
          "output_type": "stream",
          "name": "stdout",
          "text": [
            "[ 1.85714286 -0.57142857 -1.0952381  -0.76190476]\n"
          ]
        }
      ]
    }
  ]
}