{
  "nbformat": 4,
  "nbformat_minor": 0,
  "metadata": {
    "colab": {
      "name": "PolRoots.ipynb",
      "provenance": [],
      "authorship_tag": "ABX9TyNZSSG49V26JhNOllPbT8hC",
      "include_colab_link": true
    },
    "kernelspec": {
      "name": "python3",
      "display_name": "Python 3"
    },
    "language_info": {
      "name": "python"
    }
  },
  "cells": [
    {
      "cell_type": "markdown",
      "metadata": {
        "id": "view-in-github",
        "colab_type": "text"
      },
      "source": [
        "<a href=\"https://colab.research.google.com/github/GPeyB/COMPUTACION2/blob/main/PolRoots.ipynb\" target=\"_parent\"><img src=\"https://colab.research.google.com/assets/colab-badge.svg\" alt=\"Open In Colab\"/></a>"
      ]
    },
    {
      "cell_type": "code",
      "execution_count": 44,
      "metadata": {
        "colab": {
          "base_uri": "https://localhost:8080/",
          "height": 438
        },
        "id": "oLQFKRX9FRDM",
        "outputId": "55ffe985-c54f-4b56-a059-941e1e327f2a"
      },
      "outputs": [
        {
          "output_type": "stream",
          "name": "stdout",
          "text": [
            "Ejecución método de la bisección\n",
            "No existen cambios de signo en el intervalo o existe más de uno\n",
            "Ejecución del método de newton\n",
            "La raíz de la función es: 25/8\n",
            "La raíz de la función es: 625/272\n",
            "La raíz de la función es: 390625/192032\n",
            "La raíz de la función es: 152587890625/76272421952\n",
            "La raíz de la función es: 23283064365386962890625/11641531256183387019392\n",
            "La raíz de la función es: 542101086242752217003726400434970855712890625/271050543121374391659953053961243098931900672\n",
            "Ejecución del método de Brent-Decker\n"
          ]
        },
        {
          "output_type": "display_data",
          "data": {
            "text/plain": [
              "<Figure size 432x288 with 1 Axes>"
            ],
            "image/png": "[encoded data removed]"
          },
          "metadata": {
            "needs_background": "light"
          }
        }
      ],
      "source": [
        "'''\n",
        "Autor: Gabriel Peytral Borja\n",
        "19/03/2022\n",
        "Métodos numéricos para hallar raíces de polinomios:\n",
        "  *Método gráfico\n",
        "  *Método de la búsqueda incremental\n",
        "  *Método de la bisección\n",
        "  *Método de Newton-Raphson\n",
        "\n",
        "'''\n",
        "#Importación de librerías\n",
        "from sympy import *\n",
        "import numpy as np\n",
        "from sympy.abc import x,y\n",
        "import matplotlib.pyplot as plt\n",
        "import time\n",
        "\n",
        "# Método gráfico\n",
        "class Graph: \n",
        "   def graph2DPlot(self, start, end, equation):\n",
        "      X = np.arange(start, end+1)\n",
        "      Y = np.zeros_like(X)\n",
        "      for i in range(len(X)):\n",
        "          Y[i] = equation.subs(x, X[i])\n",
        "          #print(Y[i])\n",
        "      plt.plot(X,Y)\n",
        "\n",
        "class NumericalMethods:\n",
        "\n",
        "  def IncrementalSearch(self,a,b,f):\n",
        "    X = np.linspace(a,b,1100)\n",
        "    print('x:',X)\n",
        "    Y = np.zeros_like(X)\n",
        "    start = time.time()\n",
        "    for i in range(len(X)):\n",
        "      if f.subs(x, X[i]==0):\n",
        "       print(\"La rapiz es:\",X[i])\n",
        "    end = time.time()\n",
        "    print('El tiempo total utilizado para la búsqueda incremental fue de:', (end-start))\n",
        "\n",
        "  def bisectionMetod(self, a , b, f, tol, maxIter):\n",
        "    error = np.inf\n",
        "    iter = 0\n",
        "    # El método para cuando el error es menor q la tolerancia\n",
        "    # o el número de iteraciones máximas ha sido superado\n",
        "    while error > tol or iter > maxIter: #Tolerancia \n",
        "\n",
        "    #Evaluar la función con x = a, x = b \n",
        "      fa = f.subs(x,a)\n",
        "      fb = f.subs(x,b)\n",
        "\n",
        "    # Verificar si existe un cambio de signo\n",
        "      if fa * fb < 0: # Existe cambio de signo\n",
        "        c = (a+b)/2\n",
        "        fc = f.subs(x,c)\n",
        "\n",
        "        if fa * fc < 0: # La raís está en ese intervalo [a,c]\n",
        "            a = a\n",
        "            b = c\n",
        "        elif fa*fc > 0:\n",
        "            a = c\n",
        "            b = b \n",
        "        elif fa * fc == 0:\n",
        "          print ('La raíz de:', f, 'se encuentra en:', c)\n",
        "          break\n",
        "          exit(0)\n",
        "        # La raíz podría encontrarse en [c,b]\n",
        "          error = abs(b-a) # error absoluto\n",
        "          print ('error:', error)\n",
        "      else:\n",
        "        print('No existen cambios de signo en el intervalo o existe más de uno')\n",
        "        break\n",
        "\n",
        "  def newtonRaphMethod (self, Xn, f, tol, maxIter):\n",
        "    error = np.inf \n",
        "    iter = 0\n",
        "    fprime = f.diff(x)\n",
        "    while (error > tol and iter <= maxIter):\n",
        "      if fprime.subs(x,Xn) == 0:\n",
        "        print ('Indeterminación')\n",
        "        break\n",
        "      else: \n",
        "        Xn1 = Xn - (f.subs(x, Xn) / fprime.subs(x, Xn))\n",
        "        error = abs(Xn1 -Xn)\n",
        "        # print(\"error:\", float(error), 'Xn+1:', float(Xn1))\n",
        "        Xn  = Xn1\n",
        "        iter = iter+1\n",
        "        \n",
        "        if iter == maxIter: \n",
        "          print ( 'El método no convergió')\n",
        "        else: \n",
        "          print ('La raíz de la función es:',Xn1)\n",
        "\n",
        "    return Xn1\n",
        "\n",
        "  def BrentDeckerMethod(self, a, b, f, tol, MaxIter):\n",
        "      fa = f.subs(x,a)\n",
        "      fb = f.subs(x,b)\n",
        "      c = 0\n",
        "\n",
        "      if fa * fb < 0:\n",
        "        c = (a+b)/2\n",
        "        fc = f.subs(x,c)\n",
        "        if fc == 0: \n",
        "          print('Raíz de la función se encuentra en x:', c)\n",
        "        if fa*fc <0: #La raíz se encuentra en el intervalo [a,c]\n",
        "          a = a \n",
        "          b = c\n",
        "        elif fb *fc < 0: \n",
        "          a = c\n",
        "          b = b \n",
        "\n",
        "        inter = (((y - fb) * (y- fc))/((fa -fb)*(fa-fc)))*a  + (((y - fa) * (y - fc))/((fb -fa)*(fb-fc)))*b  + (((y - fb) * (y- fc))/((fa -fb)*(fa-fc)))*c\n",
        "\n",
        "\n",
        "### FUNCIÓN MAIN ###\n",
        "def main():\n",
        "  a = -10\n",
        "  b = 2\n",
        "  tol = 0.000003\n",
        "  maxIter = 30000\n",
        "  x0 = 5\n",
        "\n",
        "  f = x**2 -2*x\n",
        "\n",
        "\n",
        "  # objeto para realizar gráfico\n",
        "  objG = Graph()\n",
        "  objG.graph2DPlot(a,b,f)\n",
        "  # objeto para aplicar métodos numéricos \n",
        "  objNM = NumericalMethods()\n",
        "\n",
        "\n",
        "  print('Ejecución método de la bisección')\n",
        "  objNM.bisectionMetod(a,b,f,tol,maxIter)\n",
        "  print ('Ejecución del método de newton')\n",
        "  objNM.newtonRaphMethod(x0,f,tol,maxIter)\n",
        "  print ('Ejecución del método de Brent-Decker')\n",
        "  objNM.BrentDeckerMethod(a,b,f,tol,maxIter)\n",
        "  #print('Ejecución de búsqueda incremental')\n",
        "  #objNM.IncrementalSearch(a,b,f)\n",
        "\n",
        "\n",
        "if __name__ == \"__main__\":\n",
        "  main ()"
      ]
    },
    {
      "cell_type": "code",
      "source": [
        ""
      ],
      "metadata": {
        "id": "mC1Y5Edfg9v3"
      },
      "execution_count": null,
      "outputs": []
    }
  ]
}