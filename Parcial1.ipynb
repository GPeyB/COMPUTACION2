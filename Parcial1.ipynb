{
  "nbformat": 4,
  "nbformat_minor": 0,
  "metadata": {
    "colab": {
      "name": "Parcial1.ipynb",
      "provenance": [],
      "authorship_tag": "ABX9TyOBGbgZONCr+VEf3IKlVTsz",
      "include_colab_link": true
    },
    "kernelspec": {
      "name": "python3",
      "display_name": "Python 3"
    },
    "language_info": {
      "name": "python"
    }
  },
  "cells": [
    {
      "cell_type": "markdown",
      "metadata": {
        "id": "view-in-github",
        "colab_type": "text"
      },
      "source": [
        "<a href=\"https://colab.research.google.com/github/GPeyB/COMPUTACION2/blob/main/Parcial1.ipynb\" target=\"_parent\"><img src=\"https://colab.research.google.com/assets/colab-badge.svg\" alt=\"Open In Colab\"/></a>"
      ]
    },
    {
      "cell_type": "markdown",
      "source": [
        "## **Encriptación de mensajes**"
      ],
      "metadata": {
        "id": "dCjSrIULyJzb"
      }
    },
    {
      "cell_type": "code",
      "execution_count": 16,
      "metadata": {
        "colab": {
          "base_uri": "https://localhost:8080/"
        },
        "id": "DPSofkLWyFg1",
        "outputId": "1776a587-1b24-4eda-f03c-5bd7e4b9d871"
      },
      "outputs": [
        {
          "output_type": "stream",
          "name": "stdout",
          "text": [
            "Escriba su mensaje en código ASCII:\n",
            "65\n",
            "66\n",
            "67\n",
            "68\n",
            "69\n",
            "70\n",
            "71\n",
            "72\n",
            "73\n",
            "65 66 67 \n",
            "68 69 70 \n",
            "71 72 73 \n",
            "Matriz con mensaje encriptado:¸\n",
            " [[1091 1107 1123]\n",
            " [ 831  843  855]\n",
            " [ 473  480  487]]\n",
            "Matriz con mensaje descifrado:\n",
            " [[65, 66, 67], [68, 69, 70], [71, 72, 73]]\n"
          ]
        }
      ],
      "source": [
        "'''\n",
        "Gabriel Peytral Borja \n",
        "Licenciatura en Tecnología\n",
        "4to semestre\n",
        "Primer examen parcial\n",
        "'''\n",
        "##  EJERCICIO 1\n",
        "import numpy as np\n",
        "class messageEncryption:\n",
        "\n",
        "  def descifrarMatriz (self, A, E):\n",
        "    INV = np.linalg.inv(A)\n",
        "    mensaje = np.dot(INV,E)\n",
        "    print('Matriz con mensaje descifrado:\\n',M)\n",
        "\n",
        "  def crearMensaje (self):\n",
        "\n",
        "    R = 3\n",
        "    C = 3\n",
        "      \n",
        "    global M \n",
        "    M = [] \n",
        "    print(\"Escriba su mensaje en código ASCII:\") \n",
        "      \n",
        "    for i in range(R):          \n",
        "        a =[] \n",
        "        for j in range(C):      \n",
        "            a.append(int(input())) \n",
        "        M.append(a) \n",
        "      \n",
        "    for i in range(R): \n",
        "        for j in range(C): \n",
        "            print(M[i][j], end = \" \") \n",
        "        print() \n",
        "\n",
        "  def multiplicarMatrices (self,A,M):\n",
        "   global E\n",
        "   E = np.dot(A,M)\n",
        "   print('Matriz con mensaje encriptado:¸\\n',E)\n",
        "\n",
        "  ### FUNCIÓN MAIN ###\n",
        "def main():\n",
        "  #M = np.array([[65, 66, 67 ], [68, 69, 70], [71, 72, 73]])\n",
        "  A = np.random.randint(1,9,(3,3))\n",
        "\n",
        "  objENC = messageEncryption()\n",
        "  objENC.crearMensaje()\n",
        "  objENC.multiplicarMatrices(A,M)\n",
        "  objENC.descifrarMatriz(A,E)\n",
        "\n",
        "if __name__ == \"__main__\":\n",
        " main ()\n",
        "    "
      ]
    },
    {
      "cell_type": "code",
      "source": [
        "## EJERCICIO 2\n",
        "\n",
        "'''\n",
        "Para encontrar las 4 raíces de la función usaré el método de NR e iré variando el punto de partida en busca de valores diferentes\n",
        "\n",
        "'''\n",
        "from sympy.abc import x\n",
        "import matplotlib.pyplot as plt\n",
        "import numpy as np\n",
        "from sympy import *\n",
        "\n",
        "# Método gráfico\n",
        "class Graph: \n",
        "   def graph2DPlot(self, start, end, equation):\n",
        "      X = np.arange(start, end+1)\n",
        "      Y = np.zeros_like(X)\n",
        "      for i in range(len(X)):\n",
        "          Y[i] = equation.subs(x, X[i])\n",
        "          #print(Y[i])\n",
        "      plt.plot(X,Y)\n",
        "      plt.grid()\n",
        "\n",
        "class NumericalMethods:\n",
        "\n",
        "  def newtonRaphMethod (self, Xn, f, tol, maxIter):\n",
        "    error = np.inf \n",
        "    iter = 0\n",
        "    fprime = f.diff(x)\n",
        "    while (error > tol and iter <= maxIter):\n",
        "      if fprime.subs(x,Xn) == 0:\n",
        "        print ('Indeterminación')\n",
        "        break\n",
        "      else: \n",
        "        Xn1 = Xn - (f.subs(x, Xn) / fprime.subs(x, Xn))\n",
        "        error = abs(Xn1 -Xn)\n",
        "        print(\"error:\", float(error), 'Xn+1:', float(Xn1))\n",
        "        Xn  = Xn1\n",
        "        iter = iter+1\n",
        "        \n",
        "        if iter == maxIter: \n",
        "          print ( 'El método no convergió')\n",
        "        else: \n",
        "          print ('La raíz de la función es:',float(Xn1))\n",
        "\n",
        "      return Xn1\n",
        " \n",
        "\n",
        "### FUNCIÓN MAIN ###\n",
        "def main():\n",
        "  a = -10\n",
        "  b = 10\n",
        "  tol = 0.000001\n",
        "  maxIter = 30000\n",
        "  x0 = -1.9 ### SE FUE VARIANDO\n",
        "  f = x**4 - 4*x**3 -2*x**2+12*x-5\n",
        "  fp = f.diff(x)\n",
        "  # objeto para realizar gráfico\n",
        "  objG = Graph()\n",
        "  objG.graph2DPlot(a,b,f)\n",
        "  objG.graph2DPlot(a,b,fp)\n",
        "  # objeto para aplicar métodos numéricos \n",
        "  objNM = NumericalMethods()\n",
        "\n",
        "\n",
        "  print('Ejecución método de Newton')\n",
        "  objNM.newtonRaphMethod(x0,f,tol,maxIter)\n",
        "\n",
        "if __name__ == \"__main__\":\n",
        "  main ()\n",
        "\n",
        "\n",
        "print('con x0 = 0.5 se obtiene la raíz 0.49166 \\n')\n",
        "print('con x0 = 4 se obtiene la raíz 3.8166 \\n')\n",
        "print('con x0 = 1.5 se obtiene la raíz 1.508333 \\n')\n",
        "print('con x0 = -1.9 se obtiene la raíz -1.793500 \\n')\n",
        "\n",
        "  "
      ],
      "metadata": {
        "colab": {
          "base_uri": "https://localhost:8080/",
          "height": 456
        },
        "id": "89R1clGECXci",
        "outputId": "f1b175ff-dad5-40d5-f6a4-7f865fd238c6"
      },
      "execution_count": 15,
      "outputs": [
        {
          "output_type": "stream",
          "name": "stdout",
          "text": [
            "Ejecución método de Newton\n",
            "error: 0.10649972632731242 Xn+1: -1.7935002736726875\n",
            "La raíz de la función es: -1.7935002736726875\n",
            "con x0 = 0.5 se obtiene la raíz 0.49166 \n",
            "\n",
            "con x0 = 4 se obtiene la raíz 3.8166 \n",
            "\n",
            "con x0 = 1.5 se obtiene la raíz 1.508333 \n",
            "\n",
            "con x0 = -1.9 se obtiene la raíz -1.793500 \n",
            "\n"
          ]
        },
        {
          "output_type": "display_data",
          "data": {
            "text/plain": [
              "<Figure size 432x288 with 1 Axes>"
            ],
            "image/png": "[encoded data removed]"
          },
          "metadata": {
            "needs_background": "light"
          }
        }
      ]
    }
  ]
}