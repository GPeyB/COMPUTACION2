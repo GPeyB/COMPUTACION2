{
  "nbformat": 4,
  "nbformat_minor": 0,
  "metadata": {
    "colab": {
      "name": "GJ_final.ipynb",
      "provenance": [],
      "collapsed_sections": []
    },
    "kernelspec": {
      "name": "python3",
      "display_name": "Python 3"
    },
    "language_info": {
      "name": "python"
    }
  },
  "cells": [
    {
      "cell_type": "code",
      "source": [
        "## Gabriel Peytral Borja \n",
        "## 25-02-2022\n",
        "\n",
        "# ELIMINACIÓN GAUSS-JORDAN\n",
        "# Intento final usando la inversa, si no funciona me doy de baja \n",
        "\n",
        "# Definición de funciones de apoyo\n",
        "\n",
        "## Funcion para imprimir las matrices\n",
        "def imprimirMatrices(Action, Title1, M1, Title2, M2):\n",
        "  print (Action)\n",
        "  print (Title1, '\\t' *int(len(M1)/2)+'\\t' * len(M1), Title2)\n",
        "  for i in range(len(M1)):\n",
        "     row1 = ['{0:+7.3f}'.format(x) for x in M1[i]]\n",
        "     row2 = ['{0:+7.3f}'.format(x) for x in M2[i]]\n",
        "     print(row1,'\\t', row2) \n",
        "\n",
        "## Función para hacer matriz de ceros (por alguna razón con numpy no jala)\n",
        "def zeros_matrix(rows, cols):\n",
        "  A = []\n",
        "  for i in range (rows):\n",
        "    A.append([])\n",
        "    for j in range (cols):\n",
        "      A[-1].append(0.0)\n",
        "  return A"
      ],
      "metadata": {
        "id": "wGtd-FhCc1AY"
      },
      "execution_count": 60,
      "outputs": []
    },
    {
      "cell_type": "code",
      "execution_count": 81,
      "metadata": {
        "colab": {
          "base_uri": "https://localhost:8080/"
        },
        "id": "y7RymlnIcLOt",
        "outputId": "7da44d5c-43e9-4a3c-d468-05c9840a9e67"
      },
      "outputs": [
        {
          "output_type": "stream",
          "name": "stdout",
          "text": [
            "\n",
            "A Matrix \t\t\t\t\t\t I Matrix\n",
            "[' +9.000', ' +5.000', ' +4.000', ' +7.000'] \t [' +1.000', ' +0.000', ' +0.000', ' +0.000']\n",
            "[' +4.000', ' +3.000', ' +5.000', ' +3.000'] \t [' +0.000', ' +1.000', ' +0.000', ' +0.000']\n",
            "[' +1.000', ' +8.000', ' +9.000', ' +2.000'] \t [' +0.000', ' +0.000', ' +1.000', ' +0.000']\n",
            "[' +1.000', ' +4.000', ' +9.000', ' +6.000'] \t [' +0.000', ' +0.000', ' +0.000', ' +1.000']\n"
          ]
        }
      ],
      "source": [
        "import numpy as np\n",
        "\n",
        "# Creación de matrices\n",
        "A = np.random.randint (1, 10 , (4,4)) ## Se pueden modificar las dimensiones\n",
        "I = np.identity(4)\n",
        "\n",
        "imprimirMatrices('','A Matrix', A, 'I Matrix', I)"
      ]
    },
    {
      "cell_type": "code",
      "source": [
        "# Ahora sí, inicio eliminación Gauss-Jordan\n",
        "# Primero convierto en 1 el elemento que está en A [0][0]\n",
        "denf = 0 ## para índices de \"diagonal de enfoque\"\n",
        "denfScaler = 1. /A[denf][denf] # Para hacer el elemento 1 y manejarlo como pivote\n",
        "n = len (A)\n",
        "for j in range (n): # j = ciclado en columnas\n",
        "  A[denf][j] = denfScaler * A [denf][j]\n",
        "  I[denf][j] = denfScaler * A [denf][j]\n",
        "print ()\n",
        "imprimirMatrices('', 'A Matrix', A, 'I Matrix', I)"
      ],
      "metadata": {
        "colab": {
          "base_uri": "https://localhost:8080/"
        },
        "id": "lZ62wfTufghp",
        "outputId": "06dff03f-a7af-4909-d855-3a09640210c7"
      },
      "execution_count": 82,
      "outputs": [
        {
          "output_type": "stream",
          "name": "stdout",
          "text": [
            "\n",
            "\n",
            "A Matrix \t\t\t\t\t\t I Matrix\n",
            "[' +1.000', ' +0.000', ' +0.000', ' +0.000'] \t [' +0.111', ' +0.000', ' +0.000', ' +0.000']\n",
            "[' +4.000', ' +3.000', ' +5.000', ' +3.000'] \t [' +0.000', ' +1.000', ' +0.000', ' +0.000']\n",
            "[' +1.000', ' +8.000', ' +9.000', ' +2.000'] \t [' +0.000', ' +0.000', ' +1.000', ' +0.000']\n",
            "[' +1.000', ' +4.000', ' +9.000', ' +6.000'] \t [' +0.000', ' +0.000', ' +0.000', ' +1.000']\n"
          ]
        }
      ]
    },
    {
      "cell_type": "code",
      "source": [
        "# Ahora opero sobre los elementos debajo del pivote \n",
        "n = len(A) \n",
        "indices = list(range(n)) # Lista para iterar del tAaño de A\n",
        "\n",
        "for i in indices [0:denf] + indices[denf+1:]:\n",
        "  raScaler = A[i][denf] # ra : renglón actual\n",
        "  for j in range (n): # ra-raScaler * denfrenglon, un elemento a la vez\n",
        "    A[i][j] = A[i][j] - raScaler * A[denf][j]\n",
        "    I[i][j] = I[i][j] - raScaler * I[denf][j]\n",
        "\n",
        "imprimirMatrices('', 'A Matrix', A, 'I Matrix', I)"
      ],
      "metadata": {
        "colab": {
          "base_uri": "https://localhost:8080/"
        },
        "id": "FoZvX9ncgOUy",
        "outputId": "b63cf08f-03bd-4aea-c816-a30a42e6fed2"
      },
      "execution_count": 83,
      "outputs": [
        {
          "output_type": "stream",
          "name": "stdout",
          "text": [
            "\n",
            "A Matrix \t\t\t\t\t\t I Matrix\n",
            "[' +1.000', ' +0.000', ' +0.000', ' +0.000'] \t [' +0.111', ' +0.000', ' +0.000', ' +0.000']\n",
            "[' +0.000', ' +3.000', ' +5.000', ' +3.000'] \t [' -0.444', ' +1.000', ' +0.000', ' +0.000']\n",
            "[' +0.000', ' +8.000', ' +9.000', ' +2.000'] \t [' -0.111', ' +0.000', ' +1.000', ' +0.000']\n",
            "[' +0.000', ' +4.000', ' +9.000', ' +6.000'] \t [' -0.111', ' +0.000', ' +0.000', ' +1.000']\n"
          ]
        }
      ]
    },
    {
      "cell_type": "code",
      "source": [
        "# Ahora me voy con lo que sería el segundo elemento de la diagonal principal\n",
        "# Es lo mismo con la diferencia de que ahora tengo que operar tanto arriba \n",
        "# como abajo del elemento \"pivote\"\n",
        "\n",
        "indices = list(range(n)) # Para permitir referenciado flexible de renglones\n",
        "for denf in range (1,n): # denf (focus diagonal)\n",
        "  denfScaler = 1.0 / A[denf][denf]\n",
        "  # Primero ajustAos el renglon con el pivote usando la inversa del pivote\n",
        "  for j in range (n): #j: ciclado en columnas\n",
        "    A[denf][j] *= denfScaler\n",
        "    I[denf][j] *= denfScaler\n",
        "\n",
        "  # Seccion para imprimir acciones actuales\n",
        "  string1 = '\\nAplicando GJ '\n",
        "  string2 = ' '\n",
        "  stringsum = string1 + string2\n",
        "  val1 = denf+1; val2 = denf+1\n",
        "  Action = stringsum.format(val1,val2,round(1./denfScaler,3))\n",
        "  imprimirMatrices(Action, 'A Matrix', A, 'I Matrix', I)\n",
        "  print()\n",
        "\n",
        "  # Operar en cada renglon excepto la de denf\n",
        "  for i in indices [:denf] + indices [denf+1:]: # Brinca el renglon con pivote\n",
        "    raScaler = A[i][denf]\n",
        "    for j in range (n):\n",
        "      A[i][j] = A[i][j] -raScaler * A[denf][j]\n",
        "      I[i][j] = I[i][j] -raScaler * I[denf][j]\n",
        "  \n",
        "  # Sección para imprimir acciones actuales\n",
        "\n",
        "string1 = 'Obtenemos la identidad del lado izquierdo'\n",
        "string2 = ' y la inversa del lado derecho \\n'\n",
        "val1 = i+1; val2 = denf+1\n",
        "stringsum = string1 + string2\n",
        "Action = stringsum.format(raScaler, val2, val1, raScaler, val2, val1)\n",
        "imprimirMatrices(Action, 'A Matrix', A, 'I Matrix', I)\n",
        "print()\n"
      ],
      "metadata": {
        "colab": {
          "base_uri": "https://localhost:8080/"
        },
        "id": "VpUpmM1clERA",
        "outputId": "b7820f7a-1647-4b92-af21-b6c275e77a6d"
      },
      "execution_count": 84,
      "outputs": [
        {
          "output_type": "stream",
          "name": "stdout",
          "text": [
            "\n",
            "Aplicando GJ  \n",
            "A Matrix \t\t\t\t\t\t I Matrix\n",
            "[' +1.000', ' +0.000', ' +0.000', ' +0.000'] \t [' +0.111', ' +0.000', ' +0.000', ' +0.000']\n",
            "[' +0.000', ' +1.000', ' +1.000', ' +1.000'] \t [' -0.148', ' +0.333', ' +0.000', ' +0.000']\n",
            "[' +0.000', ' +8.000', ' +9.000', ' +2.000'] \t [' -0.111', ' +0.000', ' +1.000', ' +0.000']\n",
            "[' +0.000', ' +4.000', ' +9.000', ' +6.000'] \t [' -0.111', ' +0.000', ' +0.000', ' +1.000']\n",
            "\n",
            "\n",
            "Aplicando GJ  \n",
            "A Matrix \t\t\t\t\t\t I Matrix\n",
            "[' +1.000', ' +0.000', ' +0.000', ' +0.000'] \t [' +0.111', ' +0.000', ' +0.000', ' +0.000']\n",
            "[' +0.000', ' +1.000', ' +1.000', ' +1.000'] \t [' -0.148', ' +0.333', ' +0.000', ' +0.000']\n",
            "[' +0.000', ' +0.000', ' +1.000', ' -6.000'] \t [' +1.074', ' -2.667', ' +1.000', ' +0.000']\n",
            "[' +0.000', ' +0.000', ' +5.000', ' +2.000'] \t [' +0.481', ' -1.333', ' +0.000', ' +1.000']\n",
            "\n",
            "\n",
            "Aplicando GJ  \n",
            "A Matrix \t\t\t\t\t\t I Matrix\n",
            "[' +1.000', ' +0.000', ' +0.000', ' +0.000'] \t [' +0.111', ' +0.000', ' +0.000', ' +0.000']\n",
            "[' +0.000', ' +1.000', ' +0.000', ' +7.000'] \t [' -1.222', ' +3.000', ' -1.000', ' +0.000']\n",
            "[' +0.000', ' +0.000', ' +1.000', ' -6.000'] \t [' +1.074', ' -2.667', ' +1.000', ' +0.000']\n",
            "[' +0.000', ' +0.000', ' +0.000', ' +1.000'] \t [' -0.153', ' +0.375', ' -0.156', ' +0.031']\n",
            "\n",
            "Obtenemos la identidad del lado izquierdo y la inversa del lado derecho \n",
            "\n",
            "A Matrix \t\t\t\t\t\t I Matrix\n",
            "[' +1.000', ' +0.000', ' +0.000', ' +0.000'] \t [' +0.111', ' +0.000', ' +0.000', ' +0.000']\n",
            "[' +0.000', ' +1.000', ' +0.000', ' +0.000'] \t [' -0.153', ' +0.375', ' +0.094', ' -0.219']\n",
            "[' +0.000', ' +0.000', ' +1.000', ' +0.000'] \t [' +0.157', ' -0.417', ' +0.062', ' +0.188']\n",
            "[' +0.000', ' +0.000', ' +0.000', ' +1.000'] \t [' -0.153', ' +0.375', ' -0.156', ' +0.031']\n",
            "\n"
          ]
        }
      ]
    },
    {
      "cell_type": "code",
      "source": [
        "# Y el resultado final sería multiplicar la matriz inversa por el vector de b de resultados\n",
        "# (que en este caso no especifiqué) y que se puede hacer mediante la función dot de numpy\n",
        "### Resultado_final = np.dot(IM,b)"
      ],
      "metadata": {
        "id": "qu3iPUDjzEFF"
      },
      "execution_count": null,
      "outputs": []
    }
  ]
}
