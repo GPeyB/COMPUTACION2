{
  "nbformat": 4,
  "nbformat_minor": 0,
  "metadata": {
    "colab": {
      "name": "GJ_OOP.ipynb",
      "provenance": [],
      "collapsed_sections": [],
      "authorship_tag": "ABX9TyOy6+s33hsIbZROLDaD989I",
      "include_colab_link": true
    },
    "kernelspec": {
      "name": "python3",
      "display_name": "Python 3"
    },
    "language_info": {
      "name": "python"
    }
  },
  "cells": [
    {
      "cell_type": "markdown",
      "metadata": {
        "id": "view-in-github",
        "colab_type": "text"
      },
      "source": [
        "<a href=\"https://colab.research.google.com/github/GPeyB/COMPUTACION2/blob/main/GJ_OOP.ipynb\" target=\"_parent\"><img src=\"https://colab.research.google.com/assets/colab-badge.svg\" alt=\"Open In Colab\"/></a>"
      ]
    },
    {
      "cell_type": "code",
      "source": [
        "import numpy as np\n",
        "\n",
        "class GaussJordan:\n",
        "  def __init__(self,r,c):\n",
        "    self.renglones = r\n",
        "    self.columnas = c    \n",
        "    \n",
        "  def primeraColumna (self,A,I):\n",
        "    denf = 0 ## para índices de \"diagonal de enfoque\"\n",
        "    denfScaler = 1. /A[denf][denf] # Para hacer el elemento 1 y manejarlo como pivote\n",
        "    n = len (A)\n",
        "    for j in range (n): # j = ciclado en columnas\n",
        "      A[denf][j] = denfScaler * A [denf][j]\n",
        "      I[denf][j] = denfScaler * A [denf][j]\n",
        "    print ()\n",
        "    #imprimirMatrices('', 'A Matrix', A, 'I Matrix', I)\n",
        "\n",
        "    # Ahora opero sobre los elementos debajo del pivote \n",
        "    n = len(A) \n",
        "    indices = list(range(n)) # Lista para iterar del tAaño de A\n",
        "\n",
        "    for i in indices [0:denf] + indices[denf+1:]:\n",
        "      raScaler = A[i][denf] # ra : renglón actual\n",
        "      for j in range (n): # ra-raScaler * denfrenglon, un elemento a la vez\n",
        "        A[i][j] = A[i][j] - raScaler * A[denf][j]\n",
        "        I[i][j] = I[i][j] - raScaler * I[denf][j]\n",
        "\n",
        "   # imprimirMatrices('', 'A Matrix', A, 'I Matrix', I)\n",
        "\n",
        "\n",
        "  def eliminacionCompleta(self,A,I):\n",
        "\n",
        "    n = len(A)\n",
        "    indices = list(range(n)) # Para permitir referenciado flexible de renglones\n",
        "    for denf in range (1,n): # denf (focus diagonal)\n",
        "      denfScaler = 1.0 / A[denf][denf]\n",
        "      # Primero ajustAos el renglon con el pivote usando la inversa del pivote\n",
        "      for j in range (n): #j: ciclado en columnas\n",
        "        A[denf][j] *= denfScaler\n",
        "        I[denf][j] *= denfScaler\n",
        "\n",
        "      # Seccion para imprimir acciones actuales\n",
        "      string1 = '\\nAplicando GJ '\n",
        "      string2 = ' '\n",
        "      stringsum = string1 + string2\n",
        "      val1 = denf+1; val2 = denf+1\n",
        "      Action = stringsum.format(val1,val2,round(1./denfScaler,3))\n",
        "      #imprimirMatrices(Action, 'A Matrix', A, 'I Matrix', I)\n",
        "      print()\n",
        "\n",
        "      # Operar en cada renglon excepto la de denf\n",
        "      for i in indices [:denf] + indices [denf+1:]: # Brinca el renglon con pivote\n",
        "        raScaler = A[i][denf]\n",
        "        for j in range (n):\n",
        "          A[i][j] = A[i][j] -raScaler * A[denf][j]\n",
        "          I[i][j] = I[i][j] -raScaler * I[denf][j]\n",
        "      \n",
        "      # Sección para imprimir acciones actuales\n",
        "\n",
        "    string1 = 'Obtenemos la identidad del lado izquierdo'\n",
        "    string2 = ' y la inversa del lado derecho \\n'\n",
        "    val1 = i+1; val2 = denf+1\n",
        "    stringsum = string1 + string2\n",
        "    Action = stringsum.format(raScaler, val2, val1, raScaler, val2, val1)\n",
        "    imprimirMatrices(Action, 'A Matrix', A, 'I Matrix', I)\n",
        "    print()\n"
      ],
      "metadata": {
        "id": "_z4he2DSL8v-"
      },
      "execution_count": null,
      "outputs": []
    },
    {
      "cell_type": "code",
      "source": [
        "def imprimirMatrices(Action, Title1, M1, Title2, M2):\n",
        "    print (Action)\n",
        "    print (Title1, '\\t' *int(len(M1)/2)+'\\t' * len(M1), Title2)\n",
        "    for i in range(len(M1)):\n",
        "      row1 = ['{0:+7.3f}'.format(x) for x in M1[i]]\n",
        "      row2 = ['{0:+7.3f}'.format(x) for x in M2[i]]\n",
        "      print(row1,'\\t', row2)  \n",
        "\n",
        "def main():\n",
        "\n",
        "    # Definición de número de filas y columnas\n",
        "    r = 3\n",
        "    c = 3\n",
        "  \n",
        "    # Inicializar una matriz \n",
        "    A = np.random.randint(1,10, (r,c))\n",
        "    I = np.identity(len(A))\n",
        "    #A = [[5.,3.,1.],[3.,9.,4.],[1.,3.,5.]]\n",
        "    #I = [[1.,0.,0.],[0.,1.,0.],[0.,0.,1.]]\n",
        "\n",
        "    print(\"matrix aleatoria:\\n\", A)\n",
        "    \n",
        "    # Creación de un objeto\n",
        "    objG = GaussJordan(r,c)\n",
        "    objG.primeraColumna(A,I)\n",
        "    objG.eliminacionCompleta(A,I)\n",
        "\n",
        "\n",
        "if __name__ == \"__main__\":\n",
        "    main()"
      ],
      "metadata": {
        "colab": {
          "base_uri": "https://localhost:8080/"
        },
        "id": "-hzOjEN9kqyG",
        "outputId": "e0dc407e-a941-4e86-fca9-59e37ab21114"
      },
      "execution_count": null,
      "outputs": [
        {
          "output_type": "stream",
          "name": "stdout",
          "text": [
            "matrix aleatoria:\n",
            " [[6 6 5]\n",
            " [5 1 4]\n",
            " [7 9 1]]\n",
            "\n",
            "\n",
            "\n",
            "Obtenemos la identidad del lado izquierdo y la inversa del lado derecho \n",
            "\n",
            "A Matrix \t\t\t\t I Matrix\n",
            "[' +1.000', ' +0.000', ' +0.000'] \t [' +0.486', ' +0.569', ' -0.333']\n",
            "[' +0.000', ' +1.000', ' +0.000'] \t [' -0.319', ' -0.403', ' +0.333']\n",
            "[' +0.000', ' +0.000', ' +1.000'] \t [' -0.528', ' -0.361', ' +0.333']\n",
            "\n"
          ]
        }
      ]
    }
  ]
}